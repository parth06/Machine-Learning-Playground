{
  "nbformat": 4,
  "nbformat_minor": 0,
  "metadata": {
    "colab": {
      "name": "MNIST.ipynb",
      "version": "0.3.2",
      "views": {},
      "default_view": {},
      "provenance": [],
      "collapsed_sections": []
    },
    "kernelspec": {
      "name": "python3",
      "display_name": "Python 3"
    },
    "accelerator": "GPU"
  },
  "cells": [
    {
      "metadata": {
        "id": "5pxrDJij9yhs",
        "colab_type": "code",
        "colab": {
          "autoexec": {
            "startup": false,
            "wait_interval": 0
          }
        }
      },
      "cell_type": "code",
      "source": [
        "import numpy as np\n",
        "import pandas as pd\n",
        "\n",
        "from keras.datasets import mnist\n",
        "from keras.utils import to_categorical\n",
        "from keras.models import Sequential\n",
        "from keras.layers import Conv2D,MaxPool2D,Activation,Dense,Dropout,Flatten\n",
        "from keras.layers.normalization import BatchNormalization\n",
        "from keras.optimizers import Adam,RMSprop\n",
        "from keras.preprocessing.image import ImageDataGenerator\n",
        "from keras.callbacks import ReduceLROnPlateau\n",
        "\n",
        "import matplotlib.pyplot as plt\n",
        "%matplotlib inline\n",
        "import itertools\n",
        "from sklearn.metrics import confusion_matrix"
      ],
      "execution_count": 0,
      "outputs": []
    },
    {
      "metadata": {
        "id": "5NI27zWy-EEb",
        "colab_type": "code",
        "colab": {
          "autoexec": {
            "startup": false,
            "wait_interval": 0
          },
          "base_uri": "https://localhost:8080/",
          "height": 51
        },
        "outputId": "131e4d23-442e-4c4c-e6e1-2ccaad0c7e62",
        "executionInfo": {
          "status": "ok",
          "timestamp": 1530100389335,
          "user_tz": -330,
          "elapsed": 1978,
          "user": {
            "displayName": "Parth Shah",
            "photoUrl": "//lh5.googleusercontent.com/-HwuaZWw3hf4/AAAAAAAAAAI/AAAAAAAADR4/5CzHGIPLvkk/s50-c-k-no/photo.jpg",
            "userId": "109959370319875481189"
          }
        }
      },
      "cell_type": "code",
      "source": [
        "(x_train, y_train), (x_test, y_test) = mnist.load_data()"
      ],
      "execution_count": 4,
      "outputs": [
        {
          "output_type": "stream",
          "text": [
            "Downloading data from https://s3.amazonaws.com/img-datasets/mnist.npz\n",
            "11493376/11490434 [==============================] - 1s 0us/step\n"
          ],
          "name": "stdout"
        }
      ]
    },
    {
      "metadata": {
        "id": "Y9hMAmiu_D0N",
        "colab_type": "code",
        "colab": {
          "autoexec": {
            "startup": false,
            "wait_interval": 0
          },
          "base_uri": "https://localhost:8080/",
          "height": 85
        },
        "outputId": "3ca2b09b-aa64-4f2a-d2fc-c75a30aa5c67",
        "executionInfo": {
          "status": "ok",
          "timestamp": 1530100390415,
          "user_tz": -330,
          "elapsed": 1001,
          "user": {
            "displayName": "Parth Shah",
            "photoUrl": "//lh5.googleusercontent.com/-HwuaZWw3hf4/AAAAAAAAAAI/AAAAAAAADR4/5CzHGIPLvkk/s50-c-k-no/photo.jpg",
            "userId": "109959370319875481189"
          }
        }
      },
      "cell_type": "code",
      "source": [
        "print(\"X_train Shape: \",x_train.shape)\n",
        "print(\"Y_train Shape: \",y_train.shape)\n",
        "print(\"X_test Shape: \",x_test.shape)\n",
        "print(\"Y_test Shape: \",y_test.shape)"
      ],
      "execution_count": 5,
      "outputs": [
        {
          "output_type": "stream",
          "text": [
            "X_train Shape:  (60000, 28, 28)\n",
            "Y_train Shape:  (60000,)\n",
            "X_test Shape:  (10000, 28, 28)\n",
            "Y_test Shape:  (10000,)\n"
          ],
          "name": "stdout"
        }
      ]
    },
    {
      "metadata": {
        "id": "Q-Qi15Gk_T2F",
        "colab_type": "code",
        "colab": {
          "autoexec": {
            "startup": false,
            "wait_interval": 0
          }
        }
      },
      "cell_type": "code",
      "source": [
        "img_rows = x_train.shape[1]\n",
        "img_cols = x_train.shape[2]\n",
        "\n",
        "x_train = x_train.reshape(x_train.shape[0], img_rows, img_cols, 1)\n",
        "y_train = y_train.reshape(y_train.shape[0],1)\n",
        "x_test = x_test.reshape(x_test.shape[0], img_rows, img_cols, 1)\n",
        "y_test = y_test.reshape(y_test.shape[0],1)\n",
        "input_shape = (img_rows, img_cols, 1)"
      ],
      "execution_count": 0,
      "outputs": []
    },
    {
      "metadata": {
        "id": "baacpWkDA_du",
        "colab_type": "code",
        "colab": {
          "autoexec": {
            "startup": false,
            "wait_interval": 0
          },
          "base_uri": "https://localhost:8080/",
          "height": 85
        },
        "outputId": "e3fc5738-f2d2-453d-a829-3ad3f0c28897",
        "executionInfo": {
          "status": "ok",
          "timestamp": 1530100392624,
          "user_tz": -330,
          "elapsed": 856,
          "user": {
            "displayName": "Parth Shah",
            "photoUrl": "//lh5.googleusercontent.com/-HwuaZWw3hf4/AAAAAAAAAAI/AAAAAAAADR4/5CzHGIPLvkk/s50-c-k-no/photo.jpg",
            "userId": "109959370319875481189"
          }
        }
      },
      "cell_type": "code",
      "source": [
        "print(\"X_train Shape: \",x_train.shape)\n",
        "print(\"Y_train Shape: \",y_train.shape)\n",
        "print(\"X_test Shape: \",x_test.shape)\n",
        "print(\"Y_test Shape: \",y_test.shape)"
      ],
      "execution_count": 7,
      "outputs": [
        {
          "output_type": "stream",
          "text": [
            "X_train Shape:  (60000, 28, 28, 1)\n",
            "Y_train Shape:  (60000, 1)\n",
            "X_test Shape:  (10000, 28, 28, 1)\n",
            "Y_test Shape:  (10000, 1)\n"
          ],
          "name": "stdout"
        }
      ]
    },
    {
      "metadata": {
        "id": "223_wmyvBEiv",
        "colab_type": "code",
        "colab": {
          "autoexec": {
            "startup": false,
            "wait_interval": 0
          }
        }
      },
      "cell_type": "code",
      "source": [
        "#Normalize the data\n",
        "\n",
        "x_train = x_train / 255.0\n",
        "x_test = x_test / 255.0"
      ],
      "execution_count": 0,
      "outputs": []
    },
    {
      "metadata": {
        "id": "Hnn6py0qC2Je",
        "colab_type": "code",
        "colab": {
          "autoexec": {
            "startup": false,
            "wait_interval": 0
          }
        }
      },
      "cell_type": "code",
      "source": [
        "y_train = to_categorical(y_train, num_classes = 10)\n",
        "y_test = to_categorical(y_test, num_classes = 10)"
      ],
      "execution_count": 0,
      "outputs": []
    },
    {
      "metadata": {
        "id": "w_VbHxUXC_w_",
        "colab_type": "code",
        "colab": {
          "autoexec": {
            "startup": false,
            "wait_interval": 0
          }
        }
      },
      "cell_type": "code",
      "source": [
        "model = Sequential()\n",
        "\n",
        "model.add(Conv2D(filters = 32, kernel_size = (5,5),padding = 'Valid', \n",
        "                 activation ='relu', input_shape = (28,28,1)))\n",
        "model.add(BatchNormalization())\n",
        "model.add(Conv2D(filters = 32, kernel_size = (5,5),padding = 'Same', \n",
        "                 activation ='relu'))\n",
        "model.add(BatchNormalization())\n",
        "model.add(MaxPool2D(pool_size=(2,2)))\n",
        "model.add(Dropout(0.2))\n",
        "\n",
        "\n",
        "model.add(Conv2D(filters = 64, kernel_size = (3,3),padding = 'Same', \n",
        "                 activation ='relu'))\n",
        "model.add(BatchNormalization())\n",
        "model.add(Conv2D(filters = 64, kernel_size = (3,3),padding = 'Same', \n",
        "                 activation ='relu'))\n",
        "model.add(BatchNormalization())\n",
        "model.add(MaxPool2D(pool_size=(2,2)))\n",
        "model.add(Dropout(0.2))\n",
        "\n",
        "\n",
        "model.add(Flatten())\n",
        "model.add(Dense(1024,activation = 'relu'))\n",
        "model.add(Dense(512, activation = 'relu'))\n",
        "model.add(Dense(256, activation = \"relu\"))\n",
        "model.add(Dense(10, activation = \"softmax\"))"
      ],
      "execution_count": 0,
      "outputs": []
    },
    {
      "metadata": {
        "id": "0oRrW-6mDH4D",
        "colab_type": "code",
        "colab": {
          "autoexec": {
            "startup": false,
            "wait_interval": 0
          },
          "base_uri": "https://localhost:8080/",
          "height": 731
        },
        "outputId": "2dd8981d-fc56-4c15-a5ab-755031a9bded",
        "executionInfo": {
          "status": "ok",
          "timestamp": 1530100397691,
          "user_tz": -330,
          "elapsed": 809,
          "user": {
            "displayName": "Parth Shah",
            "photoUrl": "//lh5.googleusercontent.com/-HwuaZWw3hf4/AAAAAAAAAAI/AAAAAAAADR4/5CzHGIPLvkk/s50-c-k-no/photo.jpg",
            "userId": "109959370319875481189"
          }
        }
      },
      "cell_type": "code",
      "source": [
        "print(model.summary())"
      ],
      "execution_count": 11,
      "outputs": [
        {
          "output_type": "stream",
          "text": [
            "_________________________________________________________________\n",
            "Layer (type)                 Output Shape              Param #   \n",
            "=================================================================\n",
            "conv2d_1 (Conv2D)            (None, 24, 24, 32)        832       \n",
            "_________________________________________________________________\n",
            "batch_normalization_1 (Batch (None, 24, 24, 32)        128       \n",
            "_________________________________________________________________\n",
            "conv2d_2 (Conv2D)            (None, 24, 24, 32)        25632     \n",
            "_________________________________________________________________\n",
            "batch_normalization_2 (Batch (None, 24, 24, 32)        128       \n",
            "_________________________________________________________________\n",
            "max_pooling2d_1 (MaxPooling2 (None, 12, 12, 32)        0         \n",
            "_________________________________________________________________\n",
            "dropout_1 (Dropout)          (None, 12, 12, 32)        0         \n",
            "_________________________________________________________________\n",
            "conv2d_3 (Conv2D)            (None, 12, 12, 64)        18496     \n",
            "_________________________________________________________________\n",
            "batch_normalization_3 (Batch (None, 12, 12, 64)        256       \n",
            "_________________________________________________________________\n",
            "conv2d_4 (Conv2D)            (None, 12, 12, 64)        36928     \n",
            "_________________________________________________________________\n",
            "batch_normalization_4 (Batch (None, 12, 12, 64)        256       \n",
            "_________________________________________________________________\n",
            "max_pooling2d_2 (MaxPooling2 (None, 6, 6, 64)          0         \n",
            "_________________________________________________________________\n",
            "dropout_2 (Dropout)          (None, 6, 6, 64)          0         \n",
            "_________________________________________________________________\n",
            "flatten_1 (Flatten)          (None, 2304)              0         \n",
            "_________________________________________________________________\n",
            "dense_1 (Dense)              (None, 1024)              2360320   \n",
            "_________________________________________________________________\n",
            "dense_2 (Dense)              (None, 512)               524800    \n",
            "_________________________________________________________________\n",
            "dense_3 (Dense)              (None, 256)               131328    \n",
            "_________________________________________________________________\n",
            "dense_4 (Dense)              (None, 10)                2570      \n",
            "=================================================================\n",
            "Total params: 3,101,674\n",
            "Trainable params: 3,101,290\n",
            "Non-trainable params: 384\n",
            "_________________________________________________________________\n",
            "None\n"
          ],
          "name": "stdout"
        }
      ]
    },
    {
      "metadata": {
        "id": "nOfvs_0jDJVT",
        "colab_type": "code",
        "colab": {
          "autoexec": {
            "startup": false,
            "wait_interval": 0
          }
        }
      },
      "cell_type": "code",
      "source": [
        "model.compile(optimizer=\"Adam\",loss=\"categorical_crossentropy\",metrics=[\"accuracy\"])\n"
      ],
      "execution_count": 0,
      "outputs": []
    },
    {
      "metadata": {
        "id": "65MG7u1YDjzc",
        "colab_type": "code",
        "colab": {
          "autoexec": {
            "startup": false,
            "wait_interval": 0
          }
        }
      },
      "cell_type": "code",
      "source": [
        "learning_rate_reduction = ReduceLROnPlateau(monitor='val_acc', \n",
        "                                            patience=3, \n",
        "                                            verbose=1, \n",
        "                                            factor=0.5, \n",
        "                                            min_lr=0.00001)"
      ],
      "execution_count": 0,
      "outputs": []
    },
    {
      "metadata": {
        "id": "uhZotgKZDp1r",
        "colab_type": "code",
        "colab": {
          "autoexec": {
            "startup": false,
            "wait_interval": 0
          }
        }
      },
      "cell_type": "code",
      "source": [
        "datagen = ImageDataGenerator(\n",
        "        rotation_range=0.1,  \n",
        "        zoom_range = 0.15,  \n",
        "        width_shift_range=0.15,\n",
        "        height_shift_range=0.15,\n",
        "        shear_range = 0.15) \n",
        "\n",
        "datagen.fit(x_train)"
      ],
      "execution_count": 0,
      "outputs": []
    },
    {
      "metadata": {
        "id": "OSmeewZGDhQZ",
        "colab_type": "code",
        "colab": {
          "autoexec": {
            "startup": false,
            "wait_interval": 0
          }
        }
      },
      "cell_type": "code",
      "source": [
        "epochs = 30\n",
        "batch_size=64"
      ],
      "execution_count": 0,
      "outputs": []
    },
    {
      "metadata": {
        "id": "uGoQ_N3GDz04",
        "colab_type": "code",
        "colab": {
          "autoexec": {
            "startup": false,
            "wait_interval": 0
          },
          "base_uri": "https://localhost:8080/",
          "height": 1173
        },
        "outputId": "53b71b1a-c2d6-4339-f23e-6f8cd75682ed",
        "executionInfo": {
          "status": "ok",
          "timestamp": 1530101312391,
          "user_tz": -330,
          "elapsed": 909864,
          "user": {
            "displayName": "Parth Shah",
            "photoUrl": "//lh5.googleusercontent.com/-HwuaZWw3hf4/AAAAAAAAAAI/AAAAAAAADR4/5CzHGIPLvkk/s50-c-k-no/photo.jpg",
            "userId": "109959370319875481189"
          }
        }
      },
      "cell_type": "code",
      "source": [
        "history = model.fit_generator(datagen.flow(x_train,y_train, \n",
        "                                           batch_size=batch_size),\n",
        "                              epochs = epochs, \n",
        "                              validation_data = (x_test,y_test),\n",
        "                              verbose = 2, \n",
        "                              steps_per_epoch = x_train.shape[0] // batch_size,\n",
        "                              callbacks=[learning_rate_reduction])"
      ],
      "execution_count": 16,
      "outputs": [
        {
          "output_type": "stream",
          "text": [
            "Epoch 1/30\n",
            " - 33s - loss: 0.2397 - acc: 0.9267 - val_loss: 0.0704 - val_acc: 0.9781\n",
            "Epoch 2/30\n",
            " - 30s - loss: 0.0881 - acc: 0.9736 - val_loss: 0.0416 - val_acc: 0.9868\n",
            "Epoch 3/30\n",
            " - 30s - loss: 0.0699 - acc: 0.9790 - val_loss: 0.0271 - val_acc: 0.9917\n",
            "Epoch 4/30\n",
            " - 30s - loss: 0.0620 - acc: 0.9824 - val_loss: 0.0345 - val_acc: 0.9889\n",
            "Epoch 5/30\n",
            " - 30s - loss: 0.0571 - acc: 0.9845 - val_loss: 0.0281 - val_acc: 0.9916\n",
            "Epoch 6/30\n",
            " - 30s - loss: 0.0504 - acc: 0.9858 - val_loss: 0.0263 - val_acc: 0.9920\n",
            "Epoch 7/30\n",
            " - 30s - loss: 0.0495 - acc: 0.9865 - val_loss: 0.0360 - val_acc: 0.9891\n",
            "Epoch 8/30\n",
            " - 30s - loss: 0.0483 - acc: 0.9873 - val_loss: 0.0286 - val_acc: 0.9919\n",
            "Epoch 9/30\n",
            " - 30s - loss: 0.0436 - acc: 0.9877 - val_loss: 0.0256 - val_acc: 0.9925\n",
            "Epoch 10/30\n",
            " - 30s - loss: 0.0434 - acc: 0.9883 - val_loss: 0.0307 - val_acc: 0.9919\n",
            "Epoch 11/30\n",
            " - 30s - loss: 0.0427 - acc: 0.9887 - val_loss: 0.0253 - val_acc: 0.9938\n",
            "Epoch 12/30\n",
            " - 29s - loss: 0.0356 - acc: 0.9904 - val_loss: 0.0357 - val_acc: 0.9925\n",
            "Epoch 13/30\n",
            " - 30s - loss: 0.0361 - acc: 0.9903 - val_loss: 0.0221 - val_acc: 0.9939\n",
            "Epoch 14/30\n",
            " - 30s - loss: 0.0371 - acc: 0.9902 - val_loss: 0.0357 - val_acc: 0.9910\n",
            "\n",
            "Epoch 00014: ReduceLROnPlateau reducing learning rate to 0.0005000000237487257.\n",
            "Epoch 15/30\n",
            " - 30s - loss: 0.0264 - acc: 0.9929 - val_loss: 0.0208 - val_acc: 0.9944\n",
            "Epoch 16/30\n",
            " - 30s - loss: 0.0196 - acc: 0.9945 - val_loss: 0.0198 - val_acc: 0.9944\n",
            "Epoch 17/30\n",
            " - 30s - loss: 0.0191 - acc: 0.9943 - val_loss: 0.0177 - val_acc: 0.9954\n",
            "Epoch 18/30\n",
            " - 30s - loss: 0.0198 - acc: 0.9947 - val_loss: 0.0155 - val_acc: 0.9958\n",
            "Epoch 19/30\n",
            " - 30s - loss: 0.0206 - acc: 0.9942 - val_loss: 0.0206 - val_acc: 0.9939\n",
            "Epoch 20/30\n",
            " - 31s - loss: 0.0198 - acc: 0.9944 - val_loss: 0.0201 - val_acc: 0.9945\n",
            "Epoch 21/30\n",
            " - 30s - loss: 0.0198 - acc: 0.9946 - val_loss: 0.0201 - val_acc: 0.9945\n",
            "\n",
            "Epoch 00021: ReduceLROnPlateau reducing learning rate to 0.0002500000118743628.\n",
            "Epoch 22/30\n",
            " - 30s - loss: 0.0162 - acc: 0.9954 - val_loss: 0.0160 - val_acc: 0.9959\n",
            "Epoch 23/30\n",
            " - 30s - loss: 0.0141 - acc: 0.9960 - val_loss: 0.0162 - val_acc: 0.9956\n",
            "Epoch 24/30\n",
            " - 30s - loss: 0.0132 - acc: 0.9962 - val_loss: 0.0166 - val_acc: 0.9953\n",
            "\n",
            "Epoch 00024: ReduceLROnPlateau reducing learning rate to 0.0001250000059371814.\n",
            "Epoch 25/30\n",
            " - 31s - loss: 0.0124 - acc: 0.9965 - val_loss: 0.0151 - val_acc: 0.9955\n",
            "Epoch 26/30\n",
            " - 31s - loss: 0.0112 - acc: 0.9972 - val_loss: 0.0145 - val_acc: 0.9965\n",
            "Epoch 27/30\n",
            " - 30s - loss: 0.0106 - acc: 0.9971 - val_loss: 0.0136 - val_acc: 0.9964\n",
            "Epoch 28/30\n",
            " - 31s - loss: 0.0100 - acc: 0.9971 - val_loss: 0.0145 - val_acc: 0.9961\n",
            "Epoch 29/30\n",
            " - 31s - loss: 0.0107 - acc: 0.9971 - val_loss: 0.0143 - val_acc: 0.9959\n",
            "\n",
            "Epoch 00029: ReduceLROnPlateau reducing learning rate to 6.25000029685907e-05.\n",
            "Epoch 30/30\n",
            " - 30s - loss: 0.0079 - acc: 0.9975 - val_loss: 0.0139 - val_acc: 0.9962\n"
          ],
          "name": "stdout"
        }
      ]
    },
    {
      "metadata": {
        "id": "R3784qgyEWI2",
        "colab_type": "code",
        "colab": {
          "autoexec": {
            "startup": false,
            "wait_interval": 0
          },
          "base_uri": "https://localhost:8080/",
          "height": 51
        },
        "outputId": "bdde81be-f9f4-4544-f623-24ba1964b4a9",
        "executionInfo": {
          "status": "ok",
          "timestamp": 1530101315056,
          "user_tz": -330,
          "elapsed": 2596,
          "user": {
            "displayName": "Parth Shah",
            "photoUrl": "//lh5.googleusercontent.com/-HwuaZWw3hf4/AAAAAAAAAAI/AAAAAAAADR4/5CzHGIPLvkk/s50-c-k-no/photo.jpg",
            "userId": "109959370319875481189"
          }
        }
      },
      "cell_type": "code",
      "source": [
        "score = model.evaluate(x_test, y_test, verbose=0)\n",
        "print('Test loss:', score[0])\n",
        "print('Test accuracy:', score[1])"
      ],
      "execution_count": 17,
      "outputs": [
        {
          "output_type": "stream",
          "text": [
            "Test loss: 0.013880740687142224\n",
            "Test accuracy: 0.9962\n"
          ],
          "name": "stdout"
        }
      ]
    },
    {
      "metadata": {
        "id": "9ph8KVpoIYGO",
        "colab_type": "code",
        "colab": {
          "autoexec": {
            "startup": false,
            "wait_interval": 0
          },
          "base_uri": "https://localhost:8080/",
          "height": 588
        },
        "outputId": "9fa9a44e-4d62-4f8e-da09-f5d2584e13ba",
        "executionInfo": {
          "status": "ok",
          "timestamp": 1530101447629,
          "user_tz": -330,
          "elapsed": 1300,
          "user": {
            "displayName": "Parth Shah",
            "photoUrl": "//lh5.googleusercontent.com/-HwuaZWw3hf4/AAAAAAAAAAI/AAAAAAAADR4/5CzHGIPLvkk/s50-c-k-no/photo.jpg",
            "userId": "109959370319875481189"
          }
        }
      },
      "cell_type": "code",
      "source": [
        "print(history.history.keys())\n",
        "# summarize history for accuracy\n",
        "plt.plot(history.history['acc'])\n",
        "plt.plot(history.history['val_acc'])\n",
        "plt.title('model accuracy')\n",
        "plt.ylabel('accuracy')\n",
        "plt.xlabel('epoch')\n",
        "plt.legend(['train', 'test'], loc='upper left')\n",
        "plt.show()\n",
        "# summarize history for loss\n",
        "plt.plot(history.history['loss'])\n",
        "plt.plot(history.history['val_loss'])\n",
        "plt.title('model loss')\n",
        "plt.ylabel('loss')\n",
        "plt.xlabel('epoch')\n",
        "plt.legend(['train', 'test'], loc='upper left')\n",
        "plt.show()"
      ],
      "execution_count": 21,
      "outputs": [
        {
          "output_type": "stream",
          "text": [
            "dict_keys(['val_loss', 'val_acc', 'loss', 'acc', 'lr'])\n"
          ],
          "name": "stdout"
        },
        {
          "output_type": "display_data",
          "data": {
            "image/png": "[encoded data removed]",
            "text/plain": [
              "<matplotlib.figure.Figure at 0x7f81d7749eb8>"
            ]
          },
          "metadata": {
            "tags": []
          }
        },
        {
          "output_type": "display_data",
          "data": {
            "image/png": "[encoded data removed]",
            "text/plain": [
              "<matplotlib.figure.Figure at 0x7f81bf596438>"
            ]
          },
          "metadata": {
            "tags": []
          }
        }
      ]
    },
    {
      "metadata": {
        "id": "K-2p3aHtGIJD",
        "colab_type": "code",
        "colab": {
          "autoexec": {
            "startup": false,
            "wait_interval": 0
          },
          "base_uri": "https://localhost:8080/",
          "height": 311
        },
        "outputId": "aa85f4b4-fd2c-4f84-abc8-43074f308d4c",
        "executionInfo": {
          "status": "ok",
          "timestamp": 1530101495946,
          "user_tz": -330,
          "elapsed": 3326,
          "user": {
            "displayName": "Parth Shah",
            "photoUrl": "//lh5.googleusercontent.com/-HwuaZWw3hf4/AAAAAAAAAAI/AAAAAAAADR4/5CzHGIPLvkk/s50-c-k-no/photo.jpg",
            "userId": "109959370319875481189"
          }
        }
      },
      "cell_type": "code",
      "source": [
        "def plot_confusion_matrix(cm, classes,\n",
        "                          normalize=False,\n",
        "                          title='Confusion matrix',\n",
        "                          cmap=plt.cm.Blues):\n",
        "    \"\"\"\n",
        "    This function prints and plots the confusion matrix.\n",
        "    Normalization can be applied by setting `normalize=True`.\n",
        "    \"\"\"\n",
        "    plt.imshow(cm, interpolation='nearest', cmap=cmap)\n",
        "    plt.title(title)\n",
        "    plt.colorbar()\n",
        "    tick_marks = np.arange(len(classes))\n",
        "    plt.xticks(tick_marks, classes, rotation=45)\n",
        "    plt.yticks(tick_marks, classes)\n",
        "\n",
        "    if normalize:\n",
        "        cm = cm.astype('float') / cm.sum(axis=1)[:, np.newaxis]\n",
        "\n",
        "    thresh = cm.max() / 2.\n",
        "    for i, j in itertools.product(range(cm.shape[0]), range(cm.shape[1])):\n",
        "        plt.text(j, i, cm[i, j],\n",
        "                 horizontalalignment=\"center\",\n",
        "                 color=\"white\" if cm[i, j] > thresh else \"black\")\n",
        "\n",
        "    plt.tight_layout()\n",
        "    plt.ylabel('True label')\n",
        "    plt.xlabel('Predicted label')\n",
        "\n",
        "# Predict the values from the validation dataset\n",
        "Y_pred = model.predict(x_test)\n",
        "# Convert predictions classes to one hot vectors \n",
        "Y_pred_classes = np.argmax(Y_pred,axis = 1) \n",
        "# Convert validation observations to one hot vectors\n",
        "Y_true = np.argmax(y_test,axis = 1) \n",
        "# compute the confusion matrix\n",
        "confusion_mtx = confusion_matrix(Y_true, Y_pred_classes) \n",
        "# plot the confusion matrix\n",
        "plot_confusion_matrix(confusion_mtx, classes = range(10))"
      ],
      "execution_count": 24,
      "outputs": [
        {
          "output_type": "display_data",
          "data": {
            "image/png": "[encoded data removed]",
            "text/plain": [
              "<matplotlib.figure.Figure at 0x7f81bf313128>"
            ]
          },
          "metadata": {
            "tags": []
          }
        }
      ]
    },
    {
      "metadata": {
        "id": "n9iS7kUzKTqv",
        "colab_type": "code",
        "colab": {
          "autoexec": {
            "startup": false,
            "wait_interval": 0
          },
          "base_uri": "https://localhost:8080/",
          "height": 294
        },
        "outputId": "6b0db24d-4dcb-49e2-b22c-f73920bf8409",
        "executionInfo": {
          "status": "ok",
          "timestamp": 1530101663276,
          "user_tz": -330,
          "elapsed": 1505,
          "user": {
            "displayName": "Parth Shah",
            "photoUrl": "//lh5.googleusercontent.com/-HwuaZWw3hf4/AAAAAAAAAAI/AAAAAAAADR4/5CzHGIPLvkk/s50-c-k-no/photo.jpg",
            "userId": "109959370319875481189"
          }
        }
      },
      "cell_type": "code",
      "source": [
        "errors = (Y_pred_classes - Y_true != 0)\n",
        "\n",
        "Y_pred_classes_errors = Y_pred_classes[errors]\n",
        "Y_pred_errors = Y_pred[errors]\n",
        "Y_true_errors = Y_true[errors]\n",
        "X_val_errors = x_test[errors]\n",
        "\n",
        "def display_errors(errors_index,img_errors,pred_errors, obs_errors):\n",
        "    \"\"\" This function shows 6 images with their predicted and real labels\"\"\"\n",
        "    n = 0\n",
        "    nrows = 2\n",
        "    ncols = 3\n",
        "    fig, ax = plt.subplots(nrows,ncols,sharex=True,sharey=True)\n",
        "    for row in range(nrows):\n",
        "        for col in range(ncols):\n",
        "            error = errors_index[n]\n",
        "            ax[row,col].imshow((img_errors[error]).reshape((28,28)))\n",
        "            ax[row,col].set_title(\"Predicted label :{}\\nTrue label :{}\".format(pred_errors[error],obs_errors[error]))\n",
        "            n += 1\n",
        "\n",
        "# Probabilities of the wrong predicted numbers\n",
        "Y_pred_errors_prob = np.max(Y_pred_errors,axis = 1)\n",
        "\n",
        "# Predicted probabilities of the true values in the error set\n",
        "true_prob_errors = np.diagonal(np.take(Y_pred_errors, Y_true_errors, axis=1))\n",
        "\n",
        "# Difference between the probability of the predicted label and the true label\n",
        "delta_pred_true_errors = Y_pred_errors_prob - true_prob_errors\n",
        "\n",
        "# Sorted list of the delta prob errors\n",
        "sorted_dela_errors = np.argsort(delta_pred_true_errors)\n",
        "\n",
        "# Top 6 errors \n",
        "most_important_errors = sorted_dela_errors[-6:]\n",
        "\n",
        "# Show the top 6 errors\n",
        "display_errors(most_important_errors, X_val_errors, Y_pred_classes_errors, Y_true_errors)\n"
      ],
      "execution_count": 26,
      "outputs": [
        {
          "output_type": "display_data",
          "data": {
            "image/png": "[encoded data removed]",
            "text/plain": [
              "<matplotlib.figure.Figure at 0x7f81bee4ff98>"
            ]
          },
          "metadata": {
            "tags": []
          }
        }
      ]
    },
    {
      "metadata": {
        "id": "AXtlRuPpFXhV",
        "colab_type": "code",
        "colab": {
          "autoexec": {
            "startup": false,
            "wait_interval": 0
          },
          "base_uri": "https://localhost:8080/",
          "height": 51
        },
        "outputId": "1a1d4596-8ac8-4d8b-f82c-a23696d4ea13",
        "executionInfo": {
          "status": "ok",
          "timestamp": 1530100379330,
          "user_tz": -330,
          "elapsed": 1298,
          "user": {
            "displayName": "Parth Shah",
            "photoUrl": "//lh5.googleusercontent.com/-HwuaZWw3hf4/AAAAAAAAAAI/AAAAAAAADR4/5CzHGIPLvkk/s50-c-k-no/photo.jpg",
            "userId": "109959370319875481189"
          }
        }
      },
      "cell_type": "code",
      "source": [
        "from keras import backend as K\n",
        "K.tensorflow_backend._get_available_gpus()"
      ],
      "execution_count": 2,
      "outputs": [
        {
          "output_type": "stream",
          "text": [
            "Using TensorFlow backend.\n"
          ],
          "name": "stderr"
        },
        {
          "output_type": "execute_result",
          "data": {
            "text/plain": [
              "['/job:localhost/replica:0/task:0/device:GPU:0']"
            ]
          },
          "metadata": {
            "tags": []
          },
          "execution_count": 2
        }
      ]
    }
  ]
}