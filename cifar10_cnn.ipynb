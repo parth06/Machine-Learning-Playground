{
  "nbformat": 4,
  "nbformat_minor": 0,
  "metadata": {
    "colab": {
      "name": "cifar10-cnn.ipynb",
      "version": "0.3.2",
      "provenance": [],
      "collapsed_sections": [],
      "include_colab_link": true
    },
    "kernelspec": {
      "name": "python3",
      "display_name": "Python 3"
    },
    "accelerator": "GPU"
  },
  "cells": [
    {
      "cell_type": "markdown",
      "metadata": {
        "id": "view-in-github",
        "colab_type": "text"
      },
      "source": [
        "[View in Colaboratory](https://colab.research.google.com/github/shahparth06/Machine-Learning-Playground/blob/master/cifar10_cnn.ipynb)"
      ]
    },
    {
      "metadata": {
        "id": "0zHJNMZjDTbe",
        "colab_type": "code",
        "colab": {}
      },
      "cell_type": "code",
      "source": [
        "import numpy as np\n",
        "import pandas as pd\n",
        "\n",
        "from keras.datasets import cifar10\n",
        "from keras.utils import to_categorical\n",
        "from keras.models import Sequential\n",
        "from keras.layers import Conv2D,MaxPool2D,Dropout,Dense,Flatten\n",
        "from keras.layers.normalization import BatchNormalization\n",
        "from keras.optimizers import Adam,RMSprop\n",
        "from keras.callbacks import ReduceLROnPlateau\n",
        "from keras.preprocessing.image import ImageDataGenerator\n",
        "\n",
        "import matplotlib.pyplot as plt\n",
        "%matplotlib inline\n",
        "import itertools\n",
        "from sklearn.metrics import confusion_matrix"
      ],
      "execution_count": 0,
      "outputs": []
    },
    {
      "metadata": {
        "id": "fL7WP2r2EyFU",
        "colab_type": "code",
        "colab": {}
      },
      "cell_type": "code",
      "source": [
        "(x_train,y_train),(x_test,y_test) = cifar10.load_data()"
      ],
      "execution_count": 0,
      "outputs": []
    },
    {
      "metadata": {
        "id": "-dbWBl-AFOhf",
        "colab_type": "code",
        "colab": {
          "base_uri": "https://localhost:8080/",
          "height": 85
        },
        "outputId": "44ef114e-05ff-4a6c-e10e-ee16b0eb235c"
      },
      "cell_type": "code",
      "source": [
        "print(\"x_train shape: \",x_train.shape)\n",
        "print(\"y_train shape: \",y_train.shape)\n",
        "print(\"x_test shape: \",x_test.shape)\n",
        "print(\"y_test shape: \",y_test.shape)"
      ],
      "execution_count": 67,
      "outputs": [
        {
          "output_type": "stream",
          "text": [
            "x_train shape:  (50000, 32, 32, 3)\n",
            "y_train shape:  (50000, 1)\n",
            "x_test shape:  (10000, 32, 32, 3)\n",
            "y_test shape:  (10000, 1)\n"
          ],
          "name": "stdout"
        }
      ]
    },
    {
      "metadata": {
        "id": "sAQOHgGVFdRf",
        "colab_type": "code",
        "colab": {
          "base_uri": "https://localhost:8080/",
          "height": 283
        },
        "outputId": "22223c43-fe74-4baf-b970-925b81aae308"
      },
      "cell_type": "code",
      "source": [
        "plt.imshow(x_train[1])\n",
        "print(y_train[1])"
      ],
      "execution_count": 68,
      "outputs": [
        {
          "output_type": "stream",
          "text": [
            "[9]\n"
          ],
          "name": "stdout"
        },
        {
          "output_type": "display_data",
          "data": {
            "image/png": "[encoded data removed]",
            "text/plain": [
              "<matplotlib.figure.Figure at 0x7f6726052b70>"
            ]
          },
          "metadata": {
            "tags": []
          }
        }
      ]
    },
    {
      "metadata": {
        "id": "y2L9Obv1FpW2",
        "colab_type": "code",
        "colab": {}
      },
      "cell_type": "code",
      "source": [
        "x_train = x_train / 255.0\n",
        "x_test = x_test / 255.0"
      ],
      "execution_count": 0,
      "outputs": []
    },
    {
      "metadata": {
        "id": "ebXVaOkgFze_",
        "colab_type": "code",
        "colab": {}
      },
      "cell_type": "code",
      "source": [
        "y_train = to_categorical(y_train,num_classes=10)\n",
        "y_test = to_categorical(y_test,num_classes=10)"
      ],
      "execution_count": 0,
      "outputs": []
    },
    {
      "metadata": {
        "id": "9Ex_kS3wGQsc",
        "colab_type": "code",
        "colab": {}
      },
      "cell_type": "code",
      "source": [
        "model = Sequential()\n",
        "\n",
        "model.add(Conv2D(filters = 64, kernel_size = (5,5),padding = 'Same', \n",
        "                 activation ='relu', input_shape = (32,32,3)))\n",
        "model.add(BatchNormalization())\n",
        "model.add(Conv2D(filters = 64, kernel_size = (5,5),padding = 'Same', \n",
        "                 activation ='relu'))\n",
        "model.add(BatchNormalization())\n",
        "model.add(MaxPool2D(pool_size=(2,2)))\n",
        "model.add(Dropout(0.5))\n",
        "\n",
        "\n",
        "model.add(Conv2D(filters = 128, kernel_size = (3,3),padding = 'Same', \n",
        "                 activation ='relu'))\n",
        "model.add(BatchNormalization())\n",
        "model.add(Conv2D(filters = 128, kernel_size = (3,3),padding = 'Same', \n",
        "                 activation ='relu'))\n",
        "model.add(BatchNormalization())\n",
        "model.add(MaxPool2D(pool_size=(2,2)))\n",
        "model.add(Dropout(0.5))\n",
        "\n",
        "model.add(Conv2D(filters = 256, kernel_size = (3,3),padding = 'Same', \n",
        "                 activation ='relu'))\n",
        "model.add(BatchNormalization())\n",
        "model.add(Conv2D(filters = 256, kernel_size = (3,3),padding = 'Same', \n",
        "                 activation ='relu'))\n",
        "model.add(BatchNormalization())\n",
        "model.add(MaxPool2D(pool_size=(2,2)))\n",
        "model.add(Dropout(0.5))\n",
        "\n",
        "\n",
        "model.add(Flatten())\n",
        "model.add(Dense(1024,activation = 'relu'))\n",
        "model.add(Dropout(0.5))\n",
        "model.add(Dense(512, activation = 'relu'))\n",
        "model.add(Dense(256, activation = \"relu\"))\n",
        "model.add(Dropout(0.5))\n",
        "model.add(Dense(10, activation = \"softmax\"))"
      ],
      "execution_count": 0,
      "outputs": []
    },
    {
      "metadata": {
        "id": "PnkhXpqUHatH",
        "colab_type": "code",
        "colab": {
          "base_uri": "https://localhost:8080/",
          "height": 1003
        },
        "outputId": "af1bf5d7-6a91-4d72-d4da-8abc9e0d3918"
      },
      "cell_type": "code",
      "source": [
        "print(model.summary())"
      ],
      "execution_count": 80,
      "outputs": [
        {
          "output_type": "stream",
          "text": [
            "_________________________________________________________________\n",
            "Layer (type)                 Output Shape              Param #   \n",
            "=================================================================\n",
            "conv2d_33 (Conv2D)           (None, 32, 32, 64)        4864      \n",
            "_________________________________________________________________\n",
            "batch_normalization_55 (Batc (None, 32, 32, 64)        256       \n",
            "_________________________________________________________________\n",
            "conv2d_34 (Conv2D)           (None, 32, 32, 64)        102464    \n",
            "_________________________________________________________________\n",
            "batch_normalization_56 (Batc (None, 32, 32, 64)        256       \n",
            "_________________________________________________________________\n",
            "max_pooling2d_17 (MaxPooling (None, 16, 16, 64)        0         \n",
            "_________________________________________________________________\n",
            "dropout_26 (Dropout)         (None, 16, 16, 64)        0         \n",
            "_________________________________________________________________\n",
            "conv2d_35 (Conv2D)           (None, 16, 16, 128)       73856     \n",
            "_________________________________________________________________\n",
            "batch_normalization_57 (Batc (None, 16, 16, 128)       512       \n",
            "_________________________________________________________________\n",
            "conv2d_36 (Conv2D)           (None, 16, 16, 128)       147584    \n",
            "_________________________________________________________________\n",
            "batch_normalization_58 (Batc (None, 16, 16, 128)       512       \n",
            "_________________________________________________________________\n",
            "max_pooling2d_18 (MaxPooling (None, 8, 8, 128)         0         \n",
            "_________________________________________________________________\n",
            "dropout_27 (Dropout)         (None, 8, 8, 128)         0         \n",
            "_________________________________________________________________\n",
            "conv2d_37 (Conv2D)           (None, 8, 8, 256)         295168    \n",
            "_________________________________________________________________\n",
            "batch_normalization_59 (Batc (None, 8, 8, 256)         1024      \n",
            "_________________________________________________________________\n",
            "conv2d_38 (Conv2D)           (None, 8, 8, 256)         590080    \n",
            "_________________________________________________________________\n",
            "batch_normalization_60 (Batc (None, 8, 8, 256)         1024      \n",
            "_________________________________________________________________\n",
            "max_pooling2d_19 (MaxPooling (None, 4, 4, 256)         0         \n",
            "_________________________________________________________________\n",
            "dropout_28 (Dropout)         (None, 4, 4, 256)         0         \n",
            "_________________________________________________________________\n",
            "flatten_7 (Flatten)          (None, 4096)              0         \n",
            "_________________________________________________________________\n",
            "dense_25 (Dense)             (None, 1024)              4195328   \n",
            "_________________________________________________________________\n",
            "dropout_29 (Dropout)         (None, 1024)              0         \n",
            "_________________________________________________________________\n",
            "dense_26 (Dense)             (None, 512)               524800    \n",
            "_________________________________________________________________\n",
            "dense_27 (Dense)             (None, 256)               131328    \n",
            "_________________________________________________________________\n",
            "dropout_30 (Dropout)         (None, 256)               0         \n",
            "_________________________________________________________________\n",
            "dense_28 (Dense)             (None, 10)                2570      \n",
            "=================================================================\n",
            "Total params: 6,071,626\n",
            "Trainable params: 6,069,834\n",
            "Non-trainable params: 1,792\n",
            "_________________________________________________________________\n",
            "None\n"
          ],
          "name": "stdout"
        }
      ]
    },
    {
      "metadata": {
        "id": "smno8kdAHee6",
        "colab_type": "code",
        "colab": {}
      },
      "cell_type": "code",
      "source": [
        "opt = Adam(lr=0.001, beta_1=0.9, beta_2=0.999, epsilon=None, decay=0.0, amsgrad=False)\n",
        "model.compile(optimizer=opt,loss=\"categorical_crossentropy\",metrics=[\"accuracy\"])"
      ],
      "execution_count": 0,
      "outputs": []
    },
    {
      "metadata": {
        "id": "mCa2lcjTH_Vz",
        "colab_type": "code",
        "colab": {}
      },
      "cell_type": "code",
      "source": [
        "learning_rate_reduction = ReduceLROnPlateau(monitor='val_acc', \n",
        "                                            patience=3, \n",
        "                                            verbose=1, \n",
        "                                            factor=0.5, \n",
        "                                            min_lr=0.00001)"
      ],
      "execution_count": 0,
      "outputs": []
    },
    {
      "metadata": {
        "id": "MgW6XP2nJZM1",
        "colab_type": "code",
        "colab": {}
      },
      "cell_type": "code",
      "source": [
        "epochs=40\n",
        "batch_size=64"
      ],
      "execution_count": 0,
      "outputs": []
    },
    {
      "metadata": {
        "id": "kEv8BuG9IKXK",
        "colab_type": "code",
        "colab": {
          "base_uri": "https://localhost:8080/",
          "height": 1516
        },
        "outputId": "b65723a6-3d54-486e-d912-ef96c5c56c9f"
      },
      "cell_type": "code",
      "source": [
        "history = model.fit(x=x_train,\n",
        "                    y=y_train,\n",
        "                    batch_size=batch_size,\n",
        "                    epochs=epochs,\n",
        "                    verbose=1,\n",
        "                    validation_data=(x_test,y_test),\n",
        "                    callbacks=[learning_rate_reduction])"
      ],
      "execution_count": 84,
      "outputs": [
        {
          "output_type": "stream",
          "text": [
            "Train on 50000 samples, validate on 10000 samples\n",
            "Epoch 1/40\n",
            "44032/50000 [=========================>....] - ETA: 7s - loss: 1.9253 - acc: 0.3005"
          ],
          "name": "stdout"
        },
        {
          "output_type": "stream",
          "text": [
            "50000/50000 [==============================] - 67s 1ms/step - loss: 1.8912 - acc: 0.3128 - val_loss: 2.3886 - val_acc: 0.2703\n",
            "Epoch 2/40\n",
            "26624/50000 [==============>...............] - ETA: 27s - loss: 1.5179 - acc: 0.4531"
          ],
          "name": "stdout"
        },
        {
          "output_type": "stream",
          "text": [
            "50000/50000 [==============================] - 63s 1ms/step - loss: 1.4452 - acc: 0.4844 - val_loss: 1.4267 - val_acc: 0.4830\n",
            "Epoch 3/40\n",
            "20032/50000 [===========>..................] - ETA: 35s - loss: 1.2496 - acc: 0.5611"
          ],
          "name": "stdout"
        },
        {
          "output_type": "stream",
          "text": [
            "50000/50000 [==============================] - 63s 1ms/step - loss: 1.1903 - acc: 0.5867 - val_loss: 1.0000 - val_acc: 0.6587\n",
            "Epoch 4/40\n",
            "17536/50000 [=========>....................] - ETA: 38s - loss: 1.0886 - acc: 0.6343"
          ],
          "name": "stdout"
        },
        {
          "output_type": "stream",
          "text": [
            "50000/50000 [==============================] - 64s 1ms/step - loss: 1.0486 - acc: 0.6502 - val_loss: 1.0411 - val_acc: 0.6500\n",
            "Epoch 5/40\n",
            "16576/50000 [========>.....................] - ETA: 40s - loss: 0.9584 - acc: 0.6767"
          ],
          "name": "stdout"
        },
        {
          "output_type": "stream",
          "text": [
            "50000/50000 [==============================] - 63s 1ms/step - loss: 0.9343 - acc: 0.6864 - val_loss: 0.8287 - val_acc: 0.7191\n",
            "Epoch 6/40\n",
            "16192/50000 [========>.....................] - ETA: 40s - loss: 0.8523 - acc: 0.7157"
          ],
          "name": "stdout"
        },
        {
          "output_type": "stream",
          "text": [
            "50000/50000 [==============================] - 64s 1ms/step - loss: 0.8643 - acc: 0.7132 - val_loss: 0.7474 - val_acc: 0.7512\n",
            "Epoch 7/40\n",
            "16064/50000 [========>.....................] - ETA: 40s - loss: 0.7979 - acc: 0.7336"
          ],
          "name": "stdout"
        },
        {
          "output_type": "stream",
          "text": [
            "50000/50000 [==============================] - 64s 1ms/step - loss: 0.7946 - acc: 0.7396 - val_loss: 0.7917 - val_acc: 0.7378\n",
            "Epoch 8/40\n",
            "16000/50000 [========>.....................] - ETA: 41s - loss: 0.7487 - acc: 0.7564"
          ],
          "name": "stdout"
        },
        {
          "output_type": "stream",
          "text": [
            "50000/50000 [==============================] - 64s 1ms/step - loss: 0.7428 - acc: 0.7559 - val_loss: 0.7033 - val_acc: 0.7664\n",
            "Epoch 9/40\n",
            "16000/50000 [========>.....................] - ETA: 41s - loss: 0.7032 - acc: 0.7741"
          ],
          "name": "stdout"
        },
        {
          "output_type": "stream",
          "text": [
            "50000/50000 [==============================] - 64s 1ms/step - loss: 0.7080 - acc: 0.7701 - val_loss: 0.6538 - val_acc: 0.7860\n",
            "Epoch 10/40\n",
            "15936/50000 [========>.....................] - ETA: 41s - loss: 0.6635 - acc: 0.7833"
          ],
          "name": "stdout"
        },
        {
          "output_type": "stream",
          "text": [
            "50000/50000 [==============================] - 64s 1ms/step - loss: 0.6611 - acc: 0.7844 - val_loss: 0.6835 - val_acc: 0.7768\n",
            "Epoch 11/40\n",
            "15872/50000 [========>.....................] - ETA: 41s - loss: 0.6197 - acc: 0.7992"
          ],
          "name": "stdout"
        },
        {
          "output_type": "stream",
          "text": [
            "50000/50000 [==============================] - 64s 1ms/step - loss: 0.6344 - acc: 0.7941 - val_loss: 0.5868 - val_acc: 0.8099\n",
            "Epoch 12/40\n",
            "15872/50000 [========>.....................] - ETA: 41s - loss: 0.5895 - acc: 0.8078"
          ],
          "name": "stdout"
        },
        {
          "output_type": "stream",
          "text": [
            "50000/50000 [==============================] - 64s 1ms/step - loss: 0.5928 - acc: 0.8057 - val_loss: 0.6594 - val_acc: 0.7910\n",
            "Epoch 13/40\n",
            "15872/50000 [========>.....................] - ETA: 41s - loss: 0.5662 - acc: 0.8143"
          ],
          "name": "stdout"
        },
        {
          "output_type": "stream",
          "text": [
            "50000/50000 [==============================] - 64s 1ms/step - loss: 0.5695 - acc: 0.8150 - val_loss: 0.5515 - val_acc: 0.8208\n",
            "Epoch 14/40\n",
            "15872/50000 [========>.....................] - ETA: 40s - loss: 0.5252 - acc: 0.8311"
          ],
          "name": "stdout"
        },
        {
          "output_type": "stream",
          "text": [
            "50000/50000 [==============================] - 64s 1ms/step - loss: 0.5481 - acc: 0.8218 - val_loss: 0.5678 - val_acc: 0.8205\n",
            "Epoch 15/40\n",
            "15872/50000 [========>.....................] - ETA: 41s - loss: 0.5190 - acc: 0.8324"
          ],
          "name": "stdout"
        },
        {
          "output_type": "stream",
          "text": [
            "50000/50000 [==============================] - 64s 1ms/step - loss: 0.5295 - acc: 0.8293 - val_loss: 0.6092 - val_acc: 0.8064\n",
            "Epoch 16/40\n",
            "15872/50000 [========>.....................] - ETA: 41s - loss: 0.5006 - acc: 0.8377"
          ],
          "name": "stdout"
        },
        {
          "output_type": "stream",
          "text": [
            "50000/50000 [==============================] - 64s 1ms/step - loss: 0.5135 - acc: 0.8334 - val_loss: 0.5505 - val_acc: 0.8227\n",
            "Epoch 17/40\n",
            "15872/50000 [========>.....................] - ETA: 41s - loss: 0.4890 - acc: 0.8446"
          ],
          "name": "stdout"
        },
        {
          "output_type": "stream",
          "text": [
            "50000/50000 [==============================] - 64s 1ms/step - loss: 0.4934 - acc: 0.8425 - val_loss: 0.5279 - val_acc: 0.8365\n",
            "Epoch 18/40\n",
            "15872/50000 [========>.....................] - ETA: 41s - loss: 0.4641 - acc: 0.8473"
          ],
          "name": "stdout"
        },
        {
          "output_type": "stream",
          "text": [
            "50000/50000 [==============================] - 64s 1ms/step - loss: 0.4731 - acc: 0.8461 - val_loss: 0.5988 - val_acc: 0.8141\n",
            "Epoch 19/40\n",
            "15872/50000 [========>.....................] - ETA: 41s - loss: 0.4485 - acc: 0.8546"
          ],
          "name": "stdout"
        },
        {
          "output_type": "stream",
          "text": [
            "50000/50000 [==============================] - 64s 1ms/step - loss: 0.4491 - acc: 0.8550 - val_loss: 0.4877 - val_acc: 0.8451\n",
            "Epoch 20/40\n",
            "15872/50000 [========>.....................] - ETA: 41s - loss: 0.4267 - acc: 0.8640"
          ],
          "name": "stdout"
        },
        {
          "output_type": "stream",
          "text": [
            "50000/50000 [==============================] - 64s 1ms/step - loss: 0.4407 - acc: 0.8589 - val_loss: 0.4958 - val_acc: 0.8448\n",
            "Epoch 21/40\n",
            "15872/50000 [========>.....................] - ETA: 41s - loss: 0.4180 - acc: 0.8644"
          ],
          "name": "stdout"
        },
        {
          "output_type": "stream",
          "text": [
            "50000/50000 [==============================] - 64s 1ms/step - loss: 0.4294 - acc: 0.8619 - val_loss: 0.5632 - val_acc: 0.8302\n",
            "Epoch 22/40\n",
            "15872/50000 [========>.....................] - ETA: 41s - loss: 0.4058 - acc: 0.8712"
          ],
          "name": "stdout"
        },
        {
          "output_type": "stream",
          "text": [
            "50000/50000 [==============================] - 64s 1ms/step - loss: 0.4162 - acc: 0.8680 - val_loss: 0.5983 - val_acc: 0.8182\n",
            "\n",
            "Epoch 00022: ReduceLROnPlateau reducing learning rate to 0.0005000000237487257.\n",
            "Epoch 23/40\n",
            "11584/50000 [=====>........................] - ETA: 46s - loss: 0.3631 - acc: 0.8804"
          ],
          "name": "stdout"
        },
        {
          "output_type": "stream",
          "text": [
            "50000/50000 [==============================] - 64s 1ms/step - loss: 0.3494 - acc: 0.8865 - val_loss: 0.4486 - val_acc: 0.8638\n",
            "Epoch 24/40\n",
            "14272/50000 [=======>......................] - ETA: 42s - loss: 0.3116 - acc: 0.8967"
          ],
          "name": "stdout"
        },
        {
          "output_type": "stream",
          "text": [
            "50000/50000 [==============================] - 64s 1ms/step - loss: 0.3142 - acc: 0.8970 - val_loss: 0.4592 - val_acc: 0.8608\n",
            "Epoch 25/40\n",
            "15232/50000 [========>.....................] - ETA: 41s - loss: 0.2919 - acc: 0.9032"
          ],
          "name": "stdout"
        },
        {
          "output_type": "stream",
          "text": [
            "50000/50000 [==============================] - 64s 1ms/step - loss: 0.2978 - acc: 0.9018 - val_loss: 0.4738 - val_acc: 0.8592\n",
            "Epoch 26/40\n",
            "15616/50000 [========>.....................] - ETA: 41s - loss: 0.2753 - acc: 0.9076"
          ],
          "name": "stdout"
        },
        {
          "output_type": "stream",
          "text": [
            "50000/50000 [==============================] - 64s 1ms/step - loss: 0.2837 - acc: 0.9061 - val_loss: 0.4506 - val_acc: 0.8637\n",
            "\n",
            "Epoch 00026: ReduceLROnPlateau reducing learning rate to 0.0002500000118743628.\n",
            "Epoch 27/40\n",
            "11520/50000 [=====>........................] - ETA: 46s - loss: 0.2625 - acc: 0.9137"
          ],
          "name": "stdout"
        },
        {
          "output_type": "stream",
          "text": [
            "50000/50000 [==============================] - 64s 1ms/step - loss: 0.2583 - acc: 0.9155 - val_loss: 0.4190 - val_acc: 0.8750\n",
            "Epoch 28/40\n",
            "14208/50000 [=======>......................] - ETA: 42s - loss: 0.2452 - acc: 0.9188"
          ],
          "name": "stdout"
        },
        {
          "output_type": "stream",
          "text": [
            "50000/50000 [==============================] - 64s 1ms/step - loss: 0.2434 - acc: 0.9198 - val_loss: 0.4239 - val_acc: 0.8750\n",
            "Epoch 29/40\n",
            "15232/50000 [========>.....................] - ETA: 41s - loss: 0.2183 - acc: 0.9273"
          ],
          "name": "stdout"
        },
        {
          "output_type": "stream",
          "text": [
            "50000/50000 [==============================] - 64s 1ms/step - loss: 0.2288 - acc: 0.9241 - val_loss: 0.4273 - val_acc: 0.8775\n",
            "Epoch 30/40\n",
            "15616/50000 [========>.....................] - ETA: 41s - loss: 0.2280 - acc: 0.9242"
          ],
          "name": "stdout"
        },
        {
          "output_type": "stream",
          "text": [
            "50000/50000 [==============================] - 64s 1ms/step - loss: 0.2253 - acc: 0.9256 - val_loss: 0.4231 - val_acc: 0.8778\n",
            "Epoch 31/40\n",
            "15744/50000 [========>.....................] - ETA: 41s - loss: 0.2128 - acc: 0.9291"
          ],
          "name": "stdout"
        },
        {
          "output_type": "stream",
          "text": [
            "50000/50000 [==============================] - 64s 1ms/step - loss: 0.2198 - acc: 0.9271 - val_loss: 0.4262 - val_acc: 0.8766\n",
            "Epoch 32/40\n",
            "15808/50000 [========>.....................] - ETA: 41s - loss: 0.2136 - acc: 0.9305"
          ],
          "name": "stdout"
        },
        {
          "output_type": "stream",
          "text": [
            "50000/50000 [==============================] - 64s 1ms/step - loss: 0.2169 - acc: 0.9282 - val_loss: 0.4436 - val_acc: 0.8745\n",
            "Epoch 33/40\n",
            "15872/50000 [========>.....................] - ETA: 41s - loss: 0.2084 - acc: 0.9269"
          ],
          "name": "stdout"
        },
        {
          "output_type": "stream",
          "text": [
            "50000/50000 [==============================] - 64s 1ms/step - loss: 0.2097 - acc: 0.9299 - val_loss: 0.4201 - val_acc: 0.8796\n",
            "Epoch 34/40\n",
            "15872/50000 [========>.....................] - ETA: 41s - loss: 0.1925 - acc: 0.9371"
          ],
          "name": "stdout"
        },
        {
          "output_type": "stream",
          "text": [
            "50000/50000 [==============================] - 64s 1ms/step - loss: 0.2033 - acc: 0.9326 - val_loss: 0.4447 - val_acc: 0.8779\n",
            "Epoch 35/40\n",
            "15872/50000 [========>.....................] - ETA: 41s - loss: 0.1934 - acc: 0.9349"
          ],
          "name": "stdout"
        },
        {
          "output_type": "stream",
          "text": [
            "50000/50000 [==============================] - 64s 1ms/step - loss: 0.1966 - acc: 0.9339 - val_loss: 0.4483 - val_acc: 0.8786\n",
            "Epoch 36/40\n",
            "15872/50000 [========>.....................] - ETA: 41s - loss: 0.1932 - acc: 0.9380"
          ],
          "name": "stdout"
        },
        {
          "output_type": "stream",
          "text": [
            "50000/50000 [==============================] - 64s 1ms/step - loss: 0.1916 - acc: 0.9371 - val_loss: 0.4456 - val_acc: 0.8743\n",
            "\n",
            "Epoch 00036: ReduceLROnPlateau reducing learning rate to 0.0001250000059371814.\n",
            "Epoch 37/40\n",
            "11584/50000 [=====>........................] - ETA: 46s - loss: 0.1839 - acc: 0.9391"
          ],
          "name": "stdout"
        },
        {
          "output_type": "stream",
          "text": [
            "50000/50000 [==============================] - 64s 1ms/step - loss: 0.1823 - acc: 0.9405 - val_loss: 0.4362 - val_acc: 0.8807\n",
            "Epoch 38/40\n",
            "14272/50000 [=======>......................] - ETA: 43s - loss: 0.1763 - acc: 0.9426"
          ],
          "name": "stdout"
        },
        {
          "output_type": "stream",
          "text": [
            "50000/50000 [==============================] - 64s 1ms/step - loss: 0.1774 - acc: 0.9413 - val_loss: 0.4387 - val_acc: 0.8799\n",
            "Epoch 39/40\n",
            "15232/50000 [========>.....................] - ETA: 42s - loss: 0.1788 - acc: 0.9432"
          ],
          "name": "stdout"
        },
        {
          "output_type": "stream",
          "text": [
            "50000/50000 [==============================] - 64s 1ms/step - loss: 0.1772 - acc: 0.9430 - val_loss: 0.4381 - val_acc: 0.8798\n",
            "Epoch 40/40\n",
            "15616/50000 [========>.....................] - ETA: 41s - loss: 0.1584 - acc: 0.9470"
          ],
          "name": "stdout"
        },
        {
          "output_type": "stream",
          "text": [
            "50000/50000 [==============================] - 64s 1ms/step - loss: 0.1702 - acc: 0.9442 - val_loss: 0.4392 - val_acc: 0.8819\n"
          ],
          "name": "stdout"
        }
      ]
    },
    {
      "metadata": {
        "id": "kpNFk6n7IL3S",
        "colab_type": "code",
        "colab": {
          "base_uri": "https://localhost:8080/",
          "height": 588
        },
        "outputId": "4f3fd8f3-b0f1-49cb-b1ca-0478ac37187b"
      },
      "cell_type": "code",
      "source": [
        "print(history.history.keys())\n",
        "# summarize history for accuracy\n",
        "plt.plot(history.history['acc'])\n",
        "plt.plot(history.history['val_acc'])\n",
        "plt.title('model accuracy')\n",
        "plt.ylabel('accuracy')\n",
        "plt.xlabel('epoch')\n",
        "plt.legend(['train', 'test'], loc='upper left')\n",
        "plt.show()\n",
        "# summarize history for loss\n",
        "plt.plot(history.history['loss'])\n",
        "plt.plot(history.history['val_loss'])\n",
        "plt.title('model loss')\n",
        "plt.ylabel('loss')\n",
        "plt.xlabel('epoch')\n",
        "plt.legend(['train', 'test'], loc='upper left')\n",
        "plt.show()"
      ],
      "execution_count": 85,
      "outputs": [
        {
          "output_type": "stream",
          "text": [
            "dict_keys(['val_loss', 'val_acc', 'loss', 'acc', 'lr'])\n"
          ],
          "name": "stdout"
        },
        {
          "output_type": "display_data",
          "data": {
            "image/png": "[encoded data removed]",
            "text/plain": [
              "<matplotlib.figure.Figure at 0x7f66fc2956d8>"
            ]
          },
          "metadata": {
            "tags": []
          }
        },
        {
          "output_type": "display_data",
          "data": {
            "image/png": "[encoded data removed]",
            "text/plain": [
              "<matplotlib.figure.Figure at 0x7f66fbe315f8>"
            ]
          },
          "metadata": {
            "tags": []
          }
        }
      ]
    }
  ]
}